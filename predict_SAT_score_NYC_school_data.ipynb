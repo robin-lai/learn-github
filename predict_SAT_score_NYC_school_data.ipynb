{
 "cells": [
  {
   "cell_type": "markdown",
   "metadata": {},
   "source": [
    "* Normalize the primary keys\n",
    "    * School Primary Keys\n",
    "    * District Primary Keys\n",
    "* Reindexing columns\n",
    "* Bad value\n",
    "* Transform columns dtypes\n",
    "* Extracting Pupil-Teature Ratio\n",
    "* Build feature from dsClassSize\n",
    "* Drop non-numeric columns\n",
    "* Joining dfs\n",
    "* Replace % by and convert to float\n",
    "* Convert categorical columns to dummies\n",
    "* Useful categorical can't be drop\n",
    "* Generate train.csv and target.csv\n"
   ]
  },
  {
   "cell_type": "code",
   "execution_count": 2,
   "metadata": {},
   "outputs": [],
   "source": [
    "import pandas as pd\n",
    "# Load the data\n",
    "dsProgReports = pd.read_csv('F:/data_ware/NYC_Schools/School_Progress_Reports_-_All_Schools_-_2009-10.csv')\n",
    "dsDistrict = pd.read_csv('F:/data_ware/NYC_Schools/School_District_Breakdowns.csv')\n",
    "dsClassSize = pd.read_csv('F:/data_ware/NYC_Schools/2009-10_Class_Size_-_School-level_Detail.csv')\n",
    "dsAttendEnroll = pd.read_csv('F:/data_ware/NYC_Schools/School_Attendance_and_Enrollment_Statistics_by_District__2010-11_.csv')[:-2] #last two rows are bad\n",
    "dsSATs = pd.read_csv('F:/data_ware/NYC_Schools/SAT__College_Board__2010_School_Level_Results.csv') # Dependent"
   ]
  },
  {
   "cell_type": "code",
   "execution_count": 3,
   "metadata": {},
   "outputs": [
    {
     "data": {
      "text/plain": [
       "Index(['DBN', 'DISTRICT', 'SCHOOL', 'PRINCIPAL', 'PROGRESS REPORT TYPE',\n",
       "       'SCHOOL LEVEL*', 'PEER INDEX*', '2009-2010 OVERALL GRADE',\n",
       "       '2009-2010 OVERALL SCORE', '2009-2010 ENVIRONMENT CATEGORY SCORE',\n",
       "       '2009-2010 ENVIRONMENT GRADE', '2009-2010 PERFORMANCE CATEGORY SCORE',\n",
       "       '2009-2010 PERFORMANCE GRADE', '2009-2010 PROGRESS CATEGORY SCORE',\n",
       "       '2009-2010 PROGRESS GRADE', '2009-2010 ADDITIONAL CREDIT',\n",
       "       '2008-09 PROGRESS REPORT GRADE'],\n",
       "      dtype='object')"
      ]
     },
     "execution_count": 3,
     "output_type": "execute_result",
     "metadata": {}
    }
   ],
   "source": [
    "dsProgReports.columns"
   ]
  },
  {
   "cell_type": "code",
   "execution_count": 99,
   "metadata": {},
   "outputs": [
    {
     "name": "stdout",
     "output_type": "stream",
     "text": [
      "<class 'pandas.core.frame.DataFrame'>\n",
      "Int64Index: 460 entries, 0 to 459\n",
      "Data columns (total 6 columns):\n",
      "DBN                      460 non-null object\n",
      "School Name              460 non-null object\n",
      "Number of Test Takers    460 non-null object\n",
      "Critical Reading Mean    460 non-null object\n",
      "Mathematics Mean         460 non-null object\n",
      "Writing Mean             460 non-null object\n",
      "dtypes: object(6)\n",
      "memory usage: 25.2+ KB\n"
     ]
    }
   ],
   "source": [
    "dsSATs.info()"
   ]
  },
  {
   "cell_type": "markdown",
   "metadata": {},
   "source": [
    "#Primary Keys-schools\n",
    "Before we can join these three datasets together, we need to normalize their primary keys. Below we see the mismatch between the way the DBN (school id) field is represented in the different datasets. We then write code to normalize the keys and correct this problem."
   ]
  },
  {
   "cell_type": "code",
   "execution_count": 100,
   "metadata": {},
   "outputs": [
    {
     "data": {
      "text/html": [
       "<div>\n",
       "<table border=\"1\" class=\"dataframe\">\n",
       "  <thead>\n",
       "    <tr style=\"text-align: right;\">\n",
       "      <th></th>\n",
       "      <th>0</th>\n",
       "      <th>1</th>\n",
       "      <th>2</th>\n",
       "      <th>3</th>\n",
       "      <th>4</th>\n",
       "      <th>5</th>\n",
       "      <th>6</th>\n",
       "      <th>7</th>\n",
       "      <th>8</th>\n",
       "      <th>9</th>\n",
       "    </tr>\n",
       "  </thead>\n",
       "  <tbody>\n",
       "    <tr>\n",
       "      <th>DBN</th>\n",
       "      <td>01M015</td>\n",
       "      <td>01M019</td>\n",
       "      <td>01M020</td>\n",
       "      <td>01M034</td>\n",
       "      <td>01M063</td>\n",
       "      <td>01M064</td>\n",
       "      <td>01M110</td>\n",
       "      <td>01M134</td>\n",
       "      <td>01M137</td>\n",
       "      <td>01M140</td>\n",
       "    </tr>\n",
       "    <tr>\n",
       "      <th>DBN</th>\n",
       "      <td>01M292</td>\n",
       "      <td>01M448</td>\n",
       "      <td>01M450</td>\n",
       "      <td>01M458</td>\n",
       "      <td>01M509</td>\n",
       "      <td>01M515</td>\n",
       "      <td>01M539</td>\n",
       "      <td>01M650</td>\n",
       "      <td>01M696</td>\n",
       "      <td>02M047</td>\n",
       "    </tr>\n",
       "    <tr>\n",
       "      <th>SCHOOL CODE</th>\n",
       "      <td>M015</td>\n",
       "      <td>M015</td>\n",
       "      <td>M015</td>\n",
       "      <td>M015</td>\n",
       "      <td>M015</td>\n",
       "      <td>M015</td>\n",
       "      <td>M015</td>\n",
       "      <td>M015</td>\n",
       "      <td>M015</td>\n",
       "      <td>M015</td>\n",
       "    </tr>\n",
       "  </tbody>\n",
       "</table>\n",
       "</div>"
      ]
     },
     "output_type": "execute_result",
     "metadata": {}
    }
   ],
   "source": [
    "pd.DataFrame(data=[dsProgReports['DBN'].head(10), dsSATs['DBN'].head(10), dsClassSize['SCHOOL CODE'].head(10)])"
   ]
  },
  {
   "cell_type": "markdown",
   "metadata": {},
   "source": [
    "??take(range(4)), show(), take(4)"
   ]
  },
  {
   "cell_type": "code",
   "execution_count": 101,
   "metadata": {},
   "outputs": [
    {
     "data": {
      "text/html": [
       "<div>\n",
       "<table border=\"1\" class=\"dataframe\">\n",
       "  <thead>\n",
       "    <tr style=\"text-align: right;\">\n",
       "      <th></th>\n",
       "      <th>0</th>\n",
       "      <th>1</th>\n",
       "      <th>2</th>\n",
       "      <th>3</th>\n",
       "      <th>4</th>\n",
       "    </tr>\n",
       "  </thead>\n",
       "  <tbody>\n",
       "    <tr>\n",
       "      <th>DBN</th>\n",
       "      <td>M015</td>\n",
       "      <td>M019</td>\n",
       "      <td>M020</td>\n",
       "      <td>M034</td>\n",
       "      <td>M063</td>\n",
       "    </tr>\n",
       "    <tr>\n",
       "      <th>DBN</th>\n",
       "      <td>M292</td>\n",
       "      <td>M448</td>\n",
       "      <td>M450</td>\n",
       "      <td>M458</td>\n",
       "      <td>M509</td>\n",
       "    </tr>\n",
       "    <tr>\n",
       "      <th>SCHOOL CODE</th>\n",
       "      <td>M015</td>\n",
       "      <td>M015</td>\n",
       "      <td>M015</td>\n",
       "      <td>M015</td>\n",
       "      <td>M015</td>\n",
       "    </tr>\n",
       "  </tbody>\n",
       "</table>\n",
       "</div>"
      ]
     },
     "output_type": "execute_result",
     "metadata": {}
    }
   ],
   "source": [
    "#Strip the first two characters off the DBNs so we can join to School Code\n",
    "dsProgReports.DBN = dsProgReports.DBN.map(lambda x: x[2:])\n",
    "dsSATs.DBN = dsSATs.DBN.map(lambda x: x[2:])\n",
    "\n",
    "#We can now see the keys match\n",
    "pd.DataFrame(data=[dsProgReports['DBN'].head(5), dsSATs['DBN'].head(5), dsClassSize['SCHOOL CODE'].head(5)])\n",
    "#dsProgReports['DBN'].head(10)"
   ]
  },
  {
   "cell_type": "markdown",
   "metadata": {},
   "source": [
    "#Primary Keys-District\n",
    "We have a similar story with the district foreign keys. Again, we need to normalize the keys. The only additional complexity here is that dsProgReports['DISTRICT'] is typed numerically, whereas the other two district keys are typed as string. We do some type conversions following the key munging.\n"
   ]
  },
  {
   "cell_type": "code",
   "execution_count": 102,
   "metadata": {},
   "outputs": [
    {
     "data": {
      "text/html": [
       "<div>\n",
       "<table border=\"1\" class=\"dataframe\">\n",
       "  <thead>\n",
       "    <tr style=\"text-align: right;\">\n",
       "      <th></th>\n",
       "      <th>0</th>\n",
       "      <th>1</th>\n",
       "      <th>2</th>\n",
       "    </tr>\n",
       "  </thead>\n",
       "  <tbody>\n",
       "    <tr>\n",
       "      <th>DISTRICT</th>\n",
       "      <td>1</td>\n",
       "      <td>1</td>\n",
       "      <td>1</td>\n",
       "    </tr>\n",
       "    <tr>\n",
       "      <th>JURISDICTION NAME</th>\n",
       "      <td>CSD 01 Manhattan</td>\n",
       "      <td>CSD 02 Manhattan</td>\n",
       "      <td>CSD 03 Manhattan</td>\n",
       "    </tr>\n",
       "    <tr>\n",
       "      <th>District</th>\n",
       "      <td>DISTRICT 01</td>\n",
       "      <td>DISTRICT 02</td>\n",
       "      <td>DISTRICT 03</td>\n",
       "    </tr>\n",
       "  </tbody>\n",
       "</table>\n",
       "</div>"
      ]
     },
     "output_type": "execute_result",
     "metadata": {}
    }
   ],
   "source": [
    "#Show the key mismatchs\n",
    "#For variety's sake, using slicing ([:3]) syntax instead of .take()\n",
    "pd.DataFrame(data=[dsProgReports['DISTRICT'][:3], \n",
    "                   dsDistrict['JURISDICTION NAME'][:3], \n",
    "                   dsAttendEnroll['District'][:3]])"
   ]
  },
  {
   "cell_type": "code",
   "execution_count": 103,
   "metadata": {},
   "outputs": [
    {
     "data": {
      "text/html": [
       "<div>\n",
       "<table border=\"1\" class=\"dataframe\">\n",
       "  <thead>\n",
       "    <tr style=\"text-align: right;\">\n",
       "      <th></th>\n",
       "      <th>0</th>\n",
       "      <th>1</th>\n",
       "      <th>2</th>\n",
       "    </tr>\n",
       "  </thead>\n",
       "  <tbody>\n",
       "    <tr>\n",
       "      <th>DISTRICT</th>\n",
       "      <td>1</td>\n",
       "      <td>1</td>\n",
       "      <td>1</td>\n",
       "    </tr>\n",
       "    <tr>\n",
       "      <th>JURISDICTION NAME</th>\n",
       "      <td>1</td>\n",
       "      <td>2</td>\n",
       "      <td>3</td>\n",
       "    </tr>\n",
       "    <tr>\n",
       "      <th>District</th>\n",
       "      <td>1</td>\n",
       "      <td>2</td>\n",
       "      <td>3</td>\n",
       "    </tr>\n",
       "  </tbody>\n",
       "</table>\n",
       "</div>"
      ]
     },
     "output_type": "execute_result",
     "metadata": {}
    }
   ],
   "source": [
    "#Extract well-formed district key values\n",
    "#Note the astype(int) at the end of these lines to coerce the column to a numeric type\n",
    "import re\n",
    "dsDistrict['JURISDICTION NAME'] = dsDistrict['JURISDICTION NAME'].map(lambda x: re.match( r'([A-Za-z]*\\s)([0-9]*)', x).group(2)).astype(int)\n",
    "dsAttendEnroll.District = dsAttendEnroll.District.map(lambda x: x[-2:]).astype(int)\n",
    "\n",
    "#We can now see the keys match\n",
    "pd.DataFrame(data=[dsProgReports['DISTRICT'][:3], dsDistrict['JURISDICTION NAME'][:3], dsAttendEnroll['District'][:3]])"
   ]
  },
  {
   "cell_type": "markdown",
   "metadata": {},
   "source": [
    "#Reindexing the columns"
   ]
  },
  {
   "cell_type": "code",
   "execution_count": 104,
   "metadata": {},
   "outputs": [],
   "source": [
    "#Reindexing\n",
    "dsProgReports = dsProgReports.set_index('DBN')\n",
    "dsDistrict = dsDistrict.set_index('JURISDICTION NAME')\n",
    "dsClassSize = dsClassSize.set_index('SCHOOL CODE')\n",
    "dsAttendEnroll = dsAttendEnroll.set_index('District')\n",
    "dsSATs = dsSATs.set_index('DBN')"
   ]
  },
  {
   "cell_type": "markdown",
   "metadata": {},
   "source": [
    "# Bad value"
   ]
  },
  {
   "cell_type": "code",
   "execution_count": 105,
   "metadata": {},
   "outputs": [
    {
     "data": {
      "text/plain": [
       "DBN\n",
       "M292    391\n",
       "M448    394\n",
       "M450    418\n",
       "M458    385\n",
       "M509      s\n",
       "Name: Critical Reading Mean, dtype: object"
      ]
     },
     "execution_count": 105,
     "output_type": "execute_result",
     "metadata": {}
    }
   ],
   "source": [
    "#We can see the bad value\n",
    "dsSATs['Critical Reading Mean'].head(5)"
   ]
  },
  {
   "cell_type": "code",
   "execution_count": 106,
   "metadata": {},
   "outputs": [
    {
     "data": {
      "text/plain": [
       "DBN\n",
       "M292    391\n",
       "M448    394\n",
       "M450    418\n",
       "M458    385\n",
       "M515    314\n",
       "Name: Critical Reading Mean, dtype: object"
      ]
     },
     "execution_count": 106,
     "output_type": "execute_result",
     "metadata": {}
    }
   ],
   "source": [
    "#Now we filter it out\n",
    "\n",
    "#We create a boolean vector mask. Open question as to whether this semantically ideal...\n",
    "mask = dsSATs['Number of Test Takers'].map(lambda x: x != 's')\n",
    "dsSATs = dsSATs[mask]\n",
    "#We can see those values are gone\n",
    "dsSATs['Critical Reading Mean'].head(5)"
   ]
  },
  {
   "cell_type": "markdown",
   "metadata": {},
   "source": [
    "# Tranform columns dtypes"
   ]
  },
  {
   "cell_type": "code",
   "execution_count": 107,
   "metadata": {},
   "outputs": [
    {
     "data": {
      "text/plain": [
       "School Name              object\n",
       "Number of Test Takers    object\n",
       "Critical Reading Mean    object\n",
       "Mathematics Mean         object\n",
       "Writing Mean             object\n",
       "dtype: object"
      ]
     },
     "execution_count": 107,
     "output_type": "execute_result",
     "metadata": {}
    }
   ],
   "source": [
    "dsSATs.dtypes"
   ]
  },
  {
   "cell_type": "code",
   "execution_count": 108,
   "metadata": {},
   "outputs": [
    {
     "data": {
      "text/plain": [
       "School Name              object\n",
       "Number of Test Takers     int32\n",
       "Critical Reading Mean     int32\n",
       "Mathematics Mean          int32\n",
       "Writing Mean              int32\n",
       "dtype: object"
      ]
     },
     "execution_count": 108,
     "output_type": "execute_result",
     "metadata": {}
    }
   ],
   "source": [
    "#Cast fields to integers. Ideally we should not need to be this explicit.\n",
    "dsSATs['Number of Test Takers'] = dsSATs['Number of Test Takers'].astype(int)\n",
    "dsSATs['Critical Reading Mean'] = dsSATs['Critical Reading Mean'].astype(int)\n",
    "dsSATs['Mathematics Mean'] = dsSATs['Mathematics Mean'].astype(int)\n",
    "dsSATs['Writing Mean'] = dsSATs['Writing Mean'].astype(int)\n",
    "dsSATs.dtypes"
   ]
  },
  {
   "cell_type": "markdown",
   "metadata": {},
   "source": [
    "#Extracting the Pupil-Teacher Ratio"
   ]
  },
  {
   "cell_type": "code",
   "execution_count": 109,
   "metadata": {},
   "outputs": [
    {
     "data": {
      "text/html": [
       "<div>\n",
       "<table border=\"1\" class=\"dataframe\">\n",
       "  <thead>\n",
       "    <tr style=\"text-align: right;\">\n",
       "      <th></th>\n",
       "      <th>BORO</th>\n",
       "      <th>CSD</th>\n",
       "      <th>SCHOOL NAME</th>\n",
       "      <th>GRADE</th>\n",
       "      <th>PROGRAM TYPE</th>\n",
       "      <th>CORE SUBJECT (MS CORE and 9-12 ONLY)</th>\n",
       "      <th>CORE COURSE (MS CORE and 9-12 ONLY)</th>\n",
       "      <th>SERVICE CATEGORY(K-9* ONLY)</th>\n",
       "      <th>NUMBER OF CLASSES</th>\n",
       "      <th>TOTAL REGISTER</th>\n",
       "      <th>AVERAGE CLASS SIZE</th>\n",
       "      <th>SIZE OF SMALLEST CLASS</th>\n",
       "      <th>SIZE OF LARGEST CLASS</th>\n",
       "      <th>DATA SOURCE</th>\n",
       "      <th>SCHOOLWIDE PUPIL-TEACHER RATIO</th>\n",
       "    </tr>\n",
       "    <tr>\n",
       "      <th>SCHOOL CODE</th>\n",
       "      <th></th>\n",
       "      <th></th>\n",
       "      <th></th>\n",
       "      <th></th>\n",
       "      <th></th>\n",
       "      <th></th>\n",
       "      <th></th>\n",
       "      <th></th>\n",
       "      <th></th>\n",
       "      <th></th>\n",
       "      <th></th>\n",
       "      <th></th>\n",
       "      <th></th>\n",
       "      <th></th>\n",
       "      <th></th>\n",
       "    </tr>\n",
       "  </thead>\n",
       "  <tbody>\n",
       "    <tr>\n",
       "      <th>K564</th>\n",
       "      <td>K</td>\n",
       "      <td>32</td>\n",
       "      <td>BUSHWICK COMMUNITY HIGH SCHOOL</td>\n",
       "      <td>09-12</td>\n",
       "      <td>GEN ED</td>\n",
       "      <td>SOCIAL STUDIES</td>\n",
       "      <td>ECONOMICS</td>\n",
       "      <td>-</td>\n",
       "      <td>1</td>\n",
       "      <td>26</td>\n",
       "      <td>26.0</td>\n",
       "      <td>26</td>\n",
       "      <td>26</td>\n",
       "      <td>STARS</td>\n",
       "      <td>NaN</td>\n",
       "    </tr>\n",
       "    <tr>\n",
       "      <th>K564</th>\n",
       "      <td>K</td>\n",
       "      <td>32</td>\n",
       "      <td>BUSHWICK COMMUNITY HIGH SCHOOL</td>\n",
       "      <td>09-12</td>\n",
       "      <td>GEN ED</td>\n",
       "      <td>SOCIAL STUDIES</td>\n",
       "      <td>OTHER</td>\n",
       "      <td>-</td>\n",
       "      <td>14</td>\n",
       "      <td>343</td>\n",
       "      <td>24.5</td>\n",
       "      <td>16</td>\n",
       "      <td>30</td>\n",
       "      <td>STARS</td>\n",
       "      <td>NaN</td>\n",
       "    </tr>\n",
       "    <tr>\n",
       "      <th>K564</th>\n",
       "      <td>K</td>\n",
       "      <td>32</td>\n",
       "      <td>BUSHWICK COMMUNITY HIGH SCHOOL</td>\n",
       "      <td>09-12</td>\n",
       "      <td>CTT</td>\n",
       "      <td>SOCIAL STUDIES</td>\n",
       "      <td>ECONOMICS</td>\n",
       "      <td>-</td>\n",
       "      <td>1</td>\n",
       "      <td>25</td>\n",
       "      <td>25.0</td>\n",
       "      <td>25</td>\n",
       "      <td>25</td>\n",
       "      <td>STARS</td>\n",
       "      <td>NaN</td>\n",
       "    </tr>\n",
       "    <tr>\n",
       "      <th>K564</th>\n",
       "      <td>K</td>\n",
       "      <td>32</td>\n",
       "      <td>BUSHWICK COMMUNITY HIGH SCHOOL</td>\n",
       "      <td>09-12</td>\n",
       "      <td>CTT</td>\n",
       "      <td>SOCIAL STUDIES</td>\n",
       "      <td>OTHER</td>\n",
       "      <td>-</td>\n",
       "      <td>2</td>\n",
       "      <td>54</td>\n",
       "      <td>27.0</td>\n",
       "      <td>23</td>\n",
       "      <td>31</td>\n",
       "      <td>STARS</td>\n",
       "      <td>NaN</td>\n",
       "    </tr>\n",
       "    <tr>\n",
       "      <th>K564</th>\n",
       "      <td>K</td>\n",
       "      <td>32</td>\n",
       "      <td>BUSHWICK COMMUNITY HIGH SCHOOL</td>\n",
       "      <td>NaN</td>\n",
       "      <td>NaN</td>\n",
       "      <td>NaN</td>\n",
       "      <td>NaN</td>\n",
       "      <td>NaN</td>\n",
       "      <td>NaN</td>\n",
       "      <td>NaN</td>\n",
       "      <td>NaN</td>\n",
       "      <td>NaN</td>\n",
       "      <td>NaN</td>\n",
       "      <td>NaN</td>\n",
       "      <td>15.4</td>\n",
       "    </tr>\n",
       "  </tbody>\n",
       "</table>\n",
       "</div>"
      ]
     },
     "output_type": "execute_result",
     "metadata": {}
    }
   ],
   "source": [
    "dsClassSize.tail(5)"
   ]
  },
  {
   "cell_type": "code",
   "execution_count": 110,
   "metadata": {},
   "outputs": [
    {
     "data": {
      "text/plain": [
       "(Index(['BORO', 'CSD', 'SCHOOL NAME', 'GRADE ', 'PROGRAM TYPE',\n",
       "        'CORE SUBJECT (MS CORE and 9-12 ONLY)',\n",
       "        'CORE COURSE (MS CORE and 9-12 ONLY)', 'SERVICE CATEGORY(K-9* ONLY)',\n",
       "        'NUMBER OF CLASSES', 'TOTAL REGISTER', 'AVERAGE CLASS SIZE',\n",
       "        'SIZE OF SMALLEST CLASS', 'SIZE OF LARGEST CLASS', 'DATA SOURCE',\n",
       "        'SCHOOLWIDE PUPIL-TEACHER RATIO'],\n",
       "       dtype='object'),\n",
       " array([['M', 1, 'P.S. 015 ROBERTO CLEMENTE', '0K', 'GEN ED', '-', '-', '-',\n",
       "         1.0, 21.0, 21.0, 21.0, 21.0, 'ATS', nan],\n",
       "        ['M', 1, 'P.S. 015 ROBERTO CLEMENTE', '0K', 'CTT', '-', '-', '-',\n",
       "         1.0, 21.0, 21.0, 21.0, 21.0, 'ATS', nan],\n",
       "        ['M', 1, 'P.S. 015 ROBERTO CLEMENTE', nan, nan, nan, nan, nan, nan,\n",
       "         nan, nan, nan, nan, nan, 8.9]], dtype=object))"
      ]
     },
     "execution_count": 110,
     "output_type": "execute_result",
     "metadata": {}
    }
   ],
   "source": [
    "dsClassSize.columns, dsClassSize.take([0,1,10]).values"
   ]
  },
  {
   "cell_type": "code",
   "execution_count": 111,
   "metadata": {},
   "outputs": [],
   "source": [
    "#Extracting the Pupil-Teacher Ratio\n",
    "\n",
    "#Take the column\n",
    "dsPupilTeacher = dsClassSize.filter(['SCHOOLWIDE PUPIL-TEACHER RATIO'])\n",
    "#And filter out blank rows\n",
    "mask = dsPupilTeacher['SCHOOLWIDE PUPIL-TEACHER RATIO'].map(lambda x: x > 0)\n",
    "dsPupilTeacher = dsPupilTeacher[mask]\n",
    "#Then drop from the original dataset\n",
    "dsClassSize = dsClassSize.drop('SCHOOLWIDE PUPIL-TEACHER RATIO', axis=1)"
   ]
  },
  {
   "cell_type": "markdown",
   "metadata": {},
   "source": [
    "#Drop non-numeric fields"
   ]
  },
  {
   "cell_type": "code",
   "execution_count": 112,
   "metadata": {},
   "outputs": [],
   "source": [
    "#Drop non-numeric fields\n",
    "dsClassSize = dsClassSize.drop(['BORO','CSD','SCHOOL NAME','GRADE ','PROGRAM TYPE',\\\n",
    "'CORE SUBJECT (MS CORE and 9-12 ONLY)','CORE COURSE (MS CORE and 9-12 ONLY)',\\\n",
    "'SERVICE CATEGORY(K-9* ONLY)','DATA SOURCE'], axis=1)"
   ]
  },
  {
   "cell_type": "markdown",
   "metadata": {},
   "source": [
    "#Build features from dsClassSize"
   ]
  },
  {
   "cell_type": "code",
   "execution_count": 117,
   "metadata": {},
   "outputs": [
    {
     "name": "stdout",
     "output_type": "stream",
     "text": [
      "Index(['NUMBER OF CLASSES.max', 'TOTAL REGISTER.max', 'AVERAGE CLASS SIZE.max',\n",
      "       'SIZE OF SMALLEST CLASS.max', 'SIZE OF LARGEST CLASS.max',\n",
      "       'NUMBER OF CLASSES.min', 'TOTAL REGISTER.min', 'AVERAGE CLASS SIZE.min',\n",
      "       'SIZE OF SMALLEST CLASS.min', 'SIZE OF LARGEST CLASS.min',\n",
      "       'NUMBER OF CLASSES.mean', 'TOTAL REGISTER.mean',\n",
      "       'AVERAGE CLASS SIZE.mean', 'SIZE OF SMALLEST CLASS.mean',\n",
      "       'SIZE OF LARGEST CLASS.mean', 'SCHOOLWIDE PUPIL-TEACHER RATIO'],\n",
      "      dtype='object')\n"
     ]
    },
    {
     "data": {
      "text/html": [
       "<div>\n",
       "<table border=\"1\" class=\"dataframe\">\n",
       "  <thead>\n",
       "    <tr style=\"text-align: right;\">\n",
       "      <th></th>\n",
       "      <th>NUMBER OF CLASSES.max</th>\n",
       "      <th>TOTAL REGISTER.max</th>\n",
       "      <th>AVERAGE CLASS SIZE.max</th>\n",
       "      <th>SIZE OF SMALLEST CLASS.max</th>\n",
       "      <th>SIZE OF LARGEST CLASS.max</th>\n",
       "      <th>NUMBER OF CLASSES.min</th>\n",
       "      <th>TOTAL REGISTER.min</th>\n",
       "      <th>AVERAGE CLASS SIZE.min</th>\n",
       "      <th>SIZE OF SMALLEST CLASS.min</th>\n",
       "      <th>SIZE OF LARGEST CLASS.min</th>\n",
       "      <th>NUMBER OF CLASSES.mean</th>\n",
       "      <th>TOTAL REGISTER.mean</th>\n",
       "      <th>AVERAGE CLASS SIZE.mean</th>\n",
       "      <th>SIZE OF SMALLEST CLASS.mean</th>\n",
       "      <th>SIZE OF LARGEST CLASS.mean</th>\n",
       "      <th>SCHOOLWIDE PUPIL-TEACHER RATIO</th>\n",
       "    </tr>\n",
       "    <tr>\n",
       "      <th>SCHOOL CODE</th>\n",
       "      <th></th>\n",
       "      <th></th>\n",
       "      <th></th>\n",
       "      <th></th>\n",
       "      <th></th>\n",
       "      <th></th>\n",
       "      <th></th>\n",
       "      <th></th>\n",
       "      <th></th>\n",
       "      <th></th>\n",
       "      <th></th>\n",
       "      <th></th>\n",
       "      <th></th>\n",
       "      <th></th>\n",
       "      <th></th>\n",
       "      <th></th>\n",
       "    </tr>\n",
       "  </thead>\n",
       "  <tbody>\n",
       "    <tr>\n",
       "      <th>K001</th>\n",
       "      <td>7</td>\n",
       "      <td>158</td>\n",
       "      <td>27.3</td>\n",
       "      <td>25</td>\n",
       "      <td>31</td>\n",
       "      <td>1</td>\n",
       "      <td>12</td>\n",
       "      <td>12.0</td>\n",
       "      <td>12</td>\n",
       "      <td>12</td>\n",
       "      <td>2.611111</td>\n",
       "      <td>56.277778</td>\n",
       "      <td>20.822222</td>\n",
       "      <td>19.944444</td>\n",
       "      <td>21.555556</td>\n",
       "      <td>13.3</td>\n",
       "    </tr>\n",
       "    <tr>\n",
       "      <th>K002</th>\n",
       "      <td>11</td>\n",
       "      <td>293</td>\n",
       "      <td>27.7</td>\n",
       "      <td>26</td>\n",
       "      <td>31</td>\n",
       "      <td>1</td>\n",
       "      <td>10</td>\n",
       "      <td>8.0</td>\n",
       "      <td>2</td>\n",
       "      <td>10</td>\n",
       "      <td>3.333333</td>\n",
       "      <td>68.750000</td>\n",
       "      <td>19.316667</td>\n",
       "      <td>16.166667</td>\n",
       "      <td>21.083333</td>\n",
       "      <td>10.7</td>\n",
       "    </tr>\n",
       "    <tr>\n",
       "      <th>K003</th>\n",
       "      <td>4</td>\n",
       "      <td>76</td>\n",
       "      <td>28.0</td>\n",
       "      <td>28</td>\n",
       "      <td>28</td>\n",
       "      <td>1</td>\n",
       "      <td>12</td>\n",
       "      <td>9.5</td>\n",
       "      <td>8</td>\n",
       "      <td>11</td>\n",
       "      <td>1.933333</td>\n",
       "      <td>39.800000</td>\n",
       "      <td>20.646667</td>\n",
       "      <td>20.333333</td>\n",
       "      <td>20.866667</td>\n",
       "      <td>14.7</td>\n",
       "    </tr>\n",
       "    <tr>\n",
       "      <th>K005</th>\n",
       "      <td>4</td>\n",
       "      <td>75</td>\n",
       "      <td>27.0</td>\n",
       "      <td>27</td>\n",
       "      <td>27</td>\n",
       "      <td>1</td>\n",
       "      <td>21</td>\n",
       "      <td>9.3</td>\n",
       "      <td>8</td>\n",
       "      <td>12</td>\n",
       "      <td>2.875000</td>\n",
       "      <td>54.750000</td>\n",
       "      <td>19.612500</td>\n",
       "      <td>17.625000</td>\n",
       "      <td>21.125000</td>\n",
       "      <td>14.6</td>\n",
       "    </tr>\n",
       "    <tr>\n",
       "      <th>K006</th>\n",
       "      <td>4</td>\n",
       "      <td>125</td>\n",
       "      <td>31.3</td>\n",
       "      <td>31</td>\n",
       "      <td>32</td>\n",
       "      <td>1</td>\n",
       "      <td>11</td>\n",
       "      <td>10.7</td>\n",
       "      <td>8</td>\n",
       "      <td>11</td>\n",
       "      <td>2.545455</td>\n",
       "      <td>60.000000</td>\n",
       "      <td>21.927273</td>\n",
       "      <td>20.727273</td>\n",
       "      <td>23.181818</td>\n",
       "      <td>14.6</td>\n",
       "    </tr>\n",
       "  </tbody>\n",
       "</table>\n",
       "</div>"
      ]
     },
     "output_type": "execute_result",
     "metadata": {}
    }
   ],
   "source": [
    "import numpy as np\n",
    "#Build features from dsClassSize\n",
    "#In this case, we'll take the max, min, and mean\n",
    "#Semantically equivalent to select min(*), max(*), mean(*) from dsClassSize group by SCHOOL NAME\n",
    "#Note that SCHOOL NAME is not referenced explicitly below because it is the index of the dataframe\n",
    "grouped = dsClassSize.groupby(level=0)\n",
    "dsClassSize = grouped.aggregate(np.max).\\\n",
    "    join(grouped.aggregate(np.min), lsuffix=\".max\").\\\n",
    "    join(grouped.aggregate(np.mean), lsuffix=\".min\", rsuffix=\".mean\").\\\n",
    "    join(dsPupilTeacher)\n",
    "\n",
    "print (dsClassSize.columns)\n",
    "dsClassSize.head(5)"
   ]
  },
  {
   "cell_type": "code",
   "execution_count": 118,
   "metadata": {},
   "outputs": [],
   "source": [
    "mask = dsProgReports['SCHOOL LEVEL*'].map(lambda x: x == 'High School')\n",
    "dsProgReports = dsProgReports[mask]"
   ]
  },
  {
   "cell_type": "markdown",
   "metadata": {},
   "source": [
    "#Joining the dfs"
   ]
  },
  {
   "cell_type": "code",
   "execution_count": 119,
   "metadata": {},
   "outputs": [],
   "source": [
    "final = dsSATs.join(dsClassSize).\\\n",
    "join(dsProgReports).\\\n",
    "merge(dsDistrict, left_on='DISTRICT', right_index=True).\\\n",
    "merge(dsAttendEnroll, left_on='DISTRICT', right_index=True)"
   ]
  },
  {
   "cell_type": "code",
   "execution_count": 125,
   "metadata": {},
   "outputs": [
    {
     "data": {
      "text/plain": [
       "Index(['School Name', 'Number of Test Takers', 'Critical Reading Mean',\n",
       "       'Mathematics Mean', 'Writing Mean', 'NUMBER OF CLASSES.max',\n",
       "       'TOTAL REGISTER.max', 'AVERAGE CLASS SIZE.max',\n",
       "       'SIZE OF SMALLEST CLASS.max', 'SIZE OF LARGEST CLASS.max',\n",
       "       'NUMBER OF CLASSES.min', 'TOTAL REGISTER.min', 'AVERAGE CLASS SIZE.min',\n",
       "       'SIZE OF SMALLEST CLASS.min', 'SIZE OF LARGEST CLASS.min',\n",
       "       'NUMBER OF CLASSES.mean', 'TOTAL REGISTER.mean',\n",
       "       'AVERAGE CLASS SIZE.mean', 'SIZE OF SMALLEST CLASS.mean',\n",
       "       'SIZE OF LARGEST CLASS.mean', 'SCHOOLWIDE PUPIL-TEACHER RATIO',\n",
       "       'DISTRICT', 'SCHOOL', 'PRINCIPAL', 'PROGRESS REPORT TYPE',\n",
       "       'SCHOOL LEVEL*', 'PEER INDEX*', '2009-2010 OVERALL GRADE',\n",
       "       '2009-2010 OVERALL SCORE', '2009-2010 ENVIRONMENT CATEGORY SCORE',\n",
       "       '2009-2010 ENVIRONMENT GRADE', '2009-2010 PERFORMANCE CATEGORY SCORE',\n",
       "       '2009-2010 PERFORMANCE GRADE', '2009-2010 PROGRESS CATEGORY SCORE',\n",
       "       '2009-2010 PROGRESS GRADE', '2009-2010 ADDITIONAL CREDIT',\n",
       "       '2008-09 PROGRESS REPORT GRADE', 'COUNT PARTICIPANTS', 'COUNT FEMALE',\n",
       "       'PERCENT FEMALE', 'COUNT MALE', 'PERCENT MALE', 'COUNT GENDER UNKNOWN',\n",
       "       'PERCENT GENDER UNKNOWN', 'COUNT GENDER TOTAL', 'PERCENT GENDER TOTAL',\n",
       "       'COUNT PACIFIC ISLANDER', 'COUNT HISPANIC LATINO',\n",
       "       'PERCENT HISPANIC LATINO', 'COUNT AMERICAN INDIAN',\n",
       "       'PERCENT AMERICAN INDIAN', 'COUNT ASIAN NON HISPANIC',\n",
       "       'PERCENT ASIAN NON HISPANIC', 'COUNT WHITE NON HISPANIC',\n",
       "       'PERCENT WHITE NON HISPANIC', 'COUNT BLACK NON HISPANIC',\n",
       "       'PERCENT BLACK NON HISPANIC', 'COUNT OTHER ETHNICITY',\n",
       "       'PERCENT OTHER ETHNICITY', 'COUNT ETHNICITY UNKNOWN',\n",
       "       'PERCENT ETHNICITY UNKNOWN', 'COUNT ETHNICITY TOTAL',\n",
       "       'PERCENT ETHNICITY TOTAL', 'COUNT PERMANENT RESIDENT ALIEN',\n",
       "       'PERCENT PERMANENT RESIDENT ALIEN', 'COUNT US CITIZEN',\n",
       "       'PERCENT US CITIZEN', 'COUNT OTHER CITIZEN STATUS',\n",
       "       'PERCENT OTHER CITIZEN STATUS', 'COUNT CITIZEN STATUS UNKNOWN',\n",
       "       'PERCENT CITIZEN STATUS UNKNOWN', 'COUNT CITIZEN STATUS TOTAL',\n",
       "       'PERCENT CITIZEN STATUS TOTAL', 'COUNT RECEIVES PUBLIC ASSISTANCE',\n",
       "       'PERCENT RECEIVES PUBLIC ASSISTANCE',\n",
       "       'COUNT NRECEIVES PUBLIC ASSISTANCE',\n",
       "       'PERCENT NRECEIVES PUBLIC ASSISTANCE',\n",
       "       'COUNT PUBLIC ASSISTANCE UNKNOWN', 'PERCENT PUBLIC ASSISTANCE UNKNOWN',\n",
       "       'COUNT PUBLIC ASSISTANCE TOTAL', 'PERCENT PUBLIC ASSISTANCE TOTAL',\n",
       "       'YTD % Attendance (Avg)', 'YTD Enrollment(Avg)'],\n",
       "      dtype='object')"
      ]
     },
     "execution_count": 125,
     "output_type": "execute_result",
     "metadata": {}
    }
   ],
   "source": [
    "final.shape\n",
    "final.columns"
   ]
  },
  {
   "cell_type": "markdown",
   "metadata": {},
   "source": [
    "#Drop string columns"
   ]
  },
  {
   "cell_type": "code",
   "execution_count": 127,
   "metadata": {},
   "outputs": [
    {
     "data": {
      "text/plain": [
       "School Name                      object\n",
       "SCHOOL                           object\n",
       "PRINCIPAL                        object\n",
       "PROGRESS REPORT TYPE             object\n",
       "SCHOOL LEVEL*                    object\n",
       "2009-2010 OVERALL GRADE          object\n",
       "2009-2010 ENVIRONMENT GRADE      object\n",
       "2009-2010 PERFORMANCE GRADE      object\n",
       "2009-2010 PROGRESS GRADE         object\n",
       "2008-09 PROGRESS REPORT GRADE    object\n",
       "YTD % Attendance (Avg)           object\n",
       "dtype: object"
      ]
     },
     "execution_count": 127,
     "output_type": "execute_result",
     "metadata": {}
    }
   ],
   "source": [
    "final.dtypes[final.dtypes.map(lambda x: x=='object')]"
   ]
  },
  {
   "cell_type": "code",
   "execution_count": 128,
   "metadata": {},
   "outputs": [],
   "source": [
    "#Just drop string columns.\n",
    "#In theory we could build features out of some of these, but it is impractical here\n",
    "final = final.drop(['School Name','SCHOOL','PRINCIPAL','SCHOOL LEVEL*','PROGRESS REPORT TYPE'],axis=1)"
   ]
  },
  {
   "cell_type": "markdown",
   "metadata": {},
   "source": [
    "#Remove % signs and convert to float"
   ]
  },
  {
   "cell_type": "code",
   "execution_count": 130,
   "metadata": {},
   "outputs": [
    {
     "data": {
      "text/plain": [
       "DBN\n",
       "M292    91.18%\n",
       "M448    91.18%\n",
       "M450    91.18%\n",
       "M539    91.18%\n",
       "M696    91.18%\n",
       "Name: YTD % Attendance (Avg), dtype: object"
      ]
     },
     "execution_count": 130,
     "output_type": "execute_result",
     "metadata": {}
    }
   ],
   "source": [
    "final['YTD % Attendance (Avg)'].head(5)"
   ]
  },
  {
   "cell_type": "code",
   "execution_count": 131,
   "metadata": {},
   "outputs": [],
   "source": [
    "#Remove % signs and convert to float\n",
    "final['YTD % Attendance (Avg)'] = final['YTD % Attendance (Avg)'].map(lambda x: x.replace(\"%\",\"\")).astype(float)"
   ]
  },
  {
   "cell_type": "markdown",
   "metadata": {},
   "source": [
    "#Usefull categorical varible can't be drop\n",
    "We can see above that the remaining non-numeric field are grades . Intuitively, they might be important so we don't want to drop them, but in order to get a pure feature matrix we need numeric values. The approach we'll use here is to explode these into multiple boolean columns. Some machine learning libraries effectively do this for you under the covers, but when the cardinality of the categorical variable is relatively low, it's nice to be explicit about it."
   ]
  },
  {
   "cell_type": "code",
   "execution_count": 1,
   "metadata": {},
   "outputs": [
    {
     "ename": "NameError",
     "evalue": "name 'final' is not defined",
     "output_type": "error",
     "traceback": [
      "\u001b[1;31m---------------------------------------------------------------------------\u001b[0m",
      "\u001b[1;31mNameError\u001b[0m                                 Traceback (most recent call last)",
      "\u001b[1;32m<ipython-input-1-e84171e51376>\u001b[0m in \u001b[0;36m<module>\u001b[1;34m()\u001b[0m\n\u001b[1;32m----> 1\u001b[1;33m \u001b[0mfinal\u001b[0m\u001b[1;33m.\u001b[0m\u001b[0mdtypes\u001b[0m\u001b[1;33m[\u001b[0m\u001b[0mfinal\u001b[0m\u001b[1;33m.\u001b[0m\u001b[0mdtypes\u001b[0m\u001b[1;33m.\u001b[0m\u001b[0mmap\u001b[0m\u001b[1;33m(\u001b[0m\u001b[1;32mlambda\u001b[0m \u001b[0mx\u001b[0m\u001b[1;33m:\u001b[0m \u001b[0mx\u001b[0m \u001b[1;33m==\u001b[0m \u001b[1;34m'object'\u001b[0m\u001b[1;33m)\u001b[0m\u001b[1;33m]\u001b[0m\u001b[1;33m\u001b[0m\u001b[0m\n\u001b[0m\u001b[0;32m      2\u001b[0m \u001b[0mtype\u001b[0m\u001b[1;33m(\u001b[0m\u001b[0mfinal\u001b[0m\u001b[1;33m.\u001b[0m\u001b[0mdtypes\u001b[0m\u001b[1;33m)\u001b[0m\u001b[1;33m\u001b[0m\u001b[0m\n",
      "\u001b[1;31mNameError\u001b[0m: name 'final' is not defined"
     ]
    }
   ],
   "source": [
    "final.dtypes[final.dtypes.map(lambda x: x == 'object')]"
   ]
  },
  {
   "cell_type": "code",
   "execution_count": 138,
   "metadata": {},
   "outputs": [
    {
     "data": {
      "text/plain": [
       "DBN\n",
       "M292    F\n",
       "M448    F\n",
       "M450    A\n",
       "M539    C\n",
       "M696    A\n",
       "Name: 2009-2010 ENVIRONMENT GRADE, dtype: object"
      ]
     },
     "execution_count": 138,
     "output_type": "execute_result",
     "metadata": {}
    }
   ],
   "source": [
    "final['2009-2010 ENVIRONMENT GRADE'].head(5)"
   ]
  },
  {
   "cell_type": "code",
   "execution_count": 142,
   "metadata": {},
   "outputs": [
    {
     "data": {
      "text/plain": [
       "B    88\n",
       "A    86\n",
       "C    79\n",
       "D    43\n",
       "F    27\n",
       "dtype: int64"
      ]
     },
     "execution_count": 142,
     "output_type": "execute_result",
     "metadata": {}
    }
   ],
   "source": [
    "final['2009-2010 ENVIRONMENT GRADE'].value_counts()"
   ]
  },
  {
   "cell_type": "code",
   "execution_count": 150,
   "metadata": {},
   "outputs": [
    {
     "data": {
      "text/html": [
       "<div>\n",
       "<table border=\"1\" class=\"dataframe\">\n",
       "  <thead>\n",
       "    <tr style=\"text-align: right;\">\n",
       "      <th></th>\n",
       "      <th>2009-2010 OVERALL GRADE</th>\n",
       "      <th>2009-2010 ENVIRONMENT GRADE</th>\n",
       "      <th>2009-2010 PERFORMANCE GRADE</th>\n",
       "      <th>2009-2010 PROGRESS GRADE</th>\n",
       "      <th>2008-09 PROGRESS REPORT GRADE</th>\n",
       "    </tr>\n",
       "    <tr>\n",
       "      <th>DBN</th>\n",
       "      <th></th>\n",
       "      <th></th>\n",
       "      <th></th>\n",
       "      <th></th>\n",
       "      <th></th>\n",
       "    </tr>\n",
       "  </thead>\n",
       "  <tbody>\n",
       "    <tr>\n",
       "      <th>M292</th>\n",
       "      <td>D</td>\n",
       "      <td>F</td>\n",
       "      <td>C</td>\n",
       "      <td>F</td>\n",
       "      <td>B</td>\n",
       "    </tr>\n",
       "    <tr>\n",
       "      <th>M448</th>\n",
       "      <td>C</td>\n",
       "      <td>F</td>\n",
       "      <td>D</td>\n",
       "      <td>C</td>\n",
       "      <td>D</td>\n",
       "    </tr>\n",
       "    <tr>\n",
       "      <th>M450</th>\n",
       "      <td>A</td>\n",
       "      <td>A</td>\n",
       "      <td>A</td>\n",
       "      <td>B</td>\n",
       "      <td>A</td>\n",
       "    </tr>\n",
       "    <tr>\n",
       "      <th>M539</th>\n",
       "      <td>B</td>\n",
       "      <td>C</td>\n",
       "      <td>A</td>\n",
       "      <td>B</td>\n",
       "      <td>A</td>\n",
       "    </tr>\n",
       "    <tr>\n",
       "      <th>M696</th>\n",
       "      <td>B</td>\n",
       "      <td>A</td>\n",
       "      <td>B</td>\n",
       "      <td>C</td>\n",
       "      <td>B</td>\n",
       "    </tr>\n",
       "    <tr>\n",
       "      <th>M047</th>\n",
       "      <td>A</td>\n",
       "      <td>A</td>\n",
       "      <td>B</td>\n",
       "      <td>A</td>\n",
       "      <td>A</td>\n",
       "    </tr>\n",
       "    <tr>\n",
       "      <th>M288</th>\n",
       "      <td>A</td>\n",
       "      <td>B</td>\n",
       "      <td>A</td>\n",
       "      <td>A</td>\n",
       "      <td>A</td>\n",
       "    </tr>\n",
       "    <tr>\n",
       "      <th>M294</th>\n",
       "      <td>A</td>\n",
       "      <td>A</td>\n",
       "      <td>A</td>\n",
       "      <td>A</td>\n",
       "      <td>A</td>\n",
       "    </tr>\n",
       "    <tr>\n",
       "      <th>M296</th>\n",
       "      <td>A</td>\n",
       "      <td>B</td>\n",
       "      <td>A</td>\n",
       "      <td>A</td>\n",
       "      <td>A</td>\n",
       "    </tr>\n",
       "    <tr>\n",
       "      <th>M298</th>\n",
       "      <td>A</td>\n",
       "      <td>B</td>\n",
       "      <td>A</td>\n",
       "      <td>A</td>\n",
       "      <td>A</td>\n",
       "    </tr>\n",
       "  </tbody>\n",
       "</table>\n",
       "</div>"
      ]
     },
     "output_type": "execute_result",
     "metadata": {}
    }
   ],
   "source": [
    "final.select_dtypes(include=['object']).head(10)"
   ]
  },
  {
   "cell_type": "code",
   "execution_count": 156,
   "metadata": {},
   "outputs": [
    {
     "data": {
      "text/plain": [
       "array(['A', 'B', 'C', 'D', 'F'], dtype=object)"
      ]
     },
     "execution_count": 156,
     "output_type": "execute_result",
     "metadata": {}
    }
   ],
   "source": [
    "gradeCols = ['2009-2010 OVERALL GRADE','2009-2010 ENVIRONMENT GRADE','2009-2010 PERFORMANCE GRADE',\n",
    "             '2009-2010 PROGRESS GRADE','2008-09 PROGRESS REPORT GRADE']\n",
    "grades = np.unique(final[gradeCols].dropna().values) #[nan, A, B, C, D, F]\n",
    "grades"
   ]
  },
  {
   "cell_type": "markdown",
   "metadata": {},
   "source": [
    "#Convert categorical varible to multiple boolean columns(dummies)\n"
   ]
  },
  {
   "cell_type": "code",
   "execution_count": 159,
   "metadata": {},
   "outputs": [
    {
     "data": {
      "text/plain": [
       "Index(['Number of Test Takers', 'Critical Reading Mean', 'Mathematics Mean',\n",
       "       'Writing Mean', 'NUMBER OF CLASSES.max', 'TOTAL REGISTER.max',\n",
       "       'AVERAGE CLASS SIZE.max', 'SIZE OF SMALLEST CLASS.max',\n",
       "       'SIZE OF LARGEST CLASS.max', 'NUMBER OF CLASSES.min',\n",
       "       'TOTAL REGISTER.min', 'AVERAGE CLASS SIZE.min',\n",
       "       'SIZE OF SMALLEST CLASS.min', 'SIZE OF LARGEST CLASS.min',\n",
       "       'NUMBER OF CLASSES.mean', 'TOTAL REGISTER.mean',\n",
       "       'AVERAGE CLASS SIZE.mean', 'SIZE OF SMALLEST CLASS.mean',\n",
       "       'SIZE OF LARGEST CLASS.mean', 'SCHOOLWIDE PUPIL-TEACHER RATIO',\n",
       "       'DISTRICT', 'PEER INDEX*', '2009-2010 OVERALL SCORE',\n",
       "       '2009-2010 ENVIRONMENT CATEGORY SCORE',\n",
       "       '2009-2010 PERFORMANCE CATEGORY SCORE',\n",
       "       '2009-2010 PROGRESS CATEGORY SCORE', '2009-2010 ADDITIONAL CREDIT',\n",
       "       'COUNT PARTICIPANTS', 'COUNT FEMALE', 'PERCENT FEMALE', 'COUNT MALE',\n",
       "       'PERCENT MALE', 'COUNT GENDER UNKNOWN', 'PERCENT GENDER UNKNOWN',\n",
       "       'COUNT GENDER TOTAL', 'PERCENT GENDER TOTAL', 'COUNT PACIFIC ISLANDER',\n",
       "       'COUNT HISPANIC LATINO', 'PERCENT HISPANIC LATINO',\n",
       "       'COUNT AMERICAN INDIAN', 'PERCENT AMERICAN INDIAN',\n",
       "       'COUNT ASIAN NON HISPANIC', 'PERCENT ASIAN NON HISPANIC',\n",
       "       'COUNT WHITE NON HISPANIC', 'PERCENT WHITE NON HISPANIC',\n",
       "       'COUNT BLACK NON HISPANIC', 'PERCENT BLACK NON HISPANIC',\n",
       "       'COUNT OTHER ETHNICITY', 'PERCENT OTHER ETHNICITY',\n",
       "       'COUNT ETHNICITY UNKNOWN', 'PERCENT ETHNICITY UNKNOWN',\n",
       "       'COUNT ETHNICITY TOTAL', 'PERCENT ETHNICITY TOTAL',\n",
       "       'COUNT PERMANENT RESIDENT ALIEN', 'PERCENT PERMANENT RESIDENT ALIEN',\n",
       "       'COUNT US CITIZEN', 'PERCENT US CITIZEN', 'COUNT OTHER CITIZEN STATUS',\n",
       "       'PERCENT OTHER CITIZEN STATUS', 'COUNT CITIZEN STATUS UNKNOWN',\n",
       "       'PERCENT CITIZEN STATUS UNKNOWN', 'COUNT CITIZEN STATUS TOTAL',\n",
       "       'PERCENT CITIZEN STATUS TOTAL', 'COUNT RECEIVES PUBLIC ASSISTANCE',\n",
       "       'PERCENT RECEIVES PUBLIC ASSISTANCE',\n",
       "       'COUNT NRECEIVES PUBLIC ASSISTANCE',\n",
       "       'PERCENT NRECEIVES PUBLIC ASSISTANCE',\n",
       "       'COUNT PUBLIC ASSISTANCE UNKNOWN', 'PERCENT PUBLIC ASSISTANCE UNKNOWN',\n",
       "       'COUNT PUBLIC ASSISTANCE TOTAL', 'PERCENT PUBLIC ASSISTANCE TOTAL',\n",
       "       'YTD % Attendance (Avg)', 'YTD Enrollment(Avg)',\n",
       "       '2009-2010 OVERALL GRADE_A', '2009-2010 OVERALL GRADE_B',\n",
       "       '2009-2010 OVERALL GRADE_C', '2009-2010 OVERALL GRADE_D',\n",
       "       '2009-2010 OVERALL GRADE_F', '2009-2010 ENVIRONMENT GRADE_A',\n",
       "       '2009-2010 ENVIRONMENT GRADE_B', '2009-2010 ENVIRONMENT GRADE_C',\n",
       "       '2009-2010 ENVIRONMENT GRADE_D', '2009-2010 ENVIRONMENT GRADE_F',\n",
       "       '2009-2010 PERFORMANCE GRADE_A', '2009-2010 PERFORMANCE GRADE_B',\n",
       "       '2009-2010 PERFORMANCE GRADE_C', '2009-2010 PERFORMANCE GRADE_D',\n",
       "       '2009-2010 PERFORMANCE GRADE_F', '2009-2010 PROGRESS GRADE_A',\n",
       "       '2009-2010 PROGRESS GRADE_B', '2009-2010 PROGRESS GRADE_C',\n",
       "       '2009-2010 PROGRESS GRADE_D', '2009-2010 PROGRESS GRADE_F',\n",
       "       '2008-09 PROGRESS REPORT GRADE_A', '2008-09 PROGRESS REPORT GRADE_B',\n",
       "       '2008-09 PROGRESS REPORT GRADE_C', '2008-09 PROGRESS REPORT GRADE_D',\n",
       "       '2008-09 PROGRESS REPORT GRADE_F'],\n",
       "      dtype='object')"
      ]
     },
     "execution_count": 159,
     "output_type": "execute_result",
     "metadata": {}
    }
   ],
   "source": [
    "pd.get_dummies(final).columns"
   ]
  },
  {
   "cell_type": "markdown",
   "metadata": {},
   "source": [
    "#Generate train.csv and target.csv"
   ]
  },
  {
   "cell_type": "code",
   "execution_count": 160,
   "metadata": {},
   "outputs": [],
   "source": [
    "#Uncomment to generate csv files \n",
    "final.drop(['Critical Reading Mean','Mathematics Mean','Writing Mean'],axis=1).to_csv('F:/data_ware/NYC_Schools/train.csv') \n",
    "final.filter(['Critical Reading Mean','Mathematics Mean','Writing Mean']).to_csv('F:/data_ware/NYC_Schools/target.csv')"
   ]
  },
  {
   "cell_type": "code",
   "execution_count": null,
   "metadata": {},
   "outputs": [],
   "source": [
    ""
   ]
  }
 ],
 "metadata": {
  "kernelspec": {
   "display_name": "Python 3",
   "language": "python",
   "name": "python3"
  },
  "language_info": {
   "codemirror_mode": {
    "name": "ipython",
    "version": 3.0
   },
   "file_extension": ".py",
   "mimetype": "text/x-python",
   "name": "python",
   "nbconvert_exporter": "python",
   "pygments_lexer": "ipython3",
   "version": "3.4.3"
  }
 },
 "nbformat": 4,
 "nbformat_minor": 0
}